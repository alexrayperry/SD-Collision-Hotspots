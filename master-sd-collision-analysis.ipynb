{
 "cells": [
  {
   "cell_type": "code",
   "execution_count": null,
   "metadata": {},
   "outputs": [],
   "source": [
    "#Import dependencies"
   ]
  },
  {
   "cell_type": "code",
   "execution_count": null,
   "metadata": {},
   "outputs": [],
   "source": [
    "#Import & read csv file"
   ]
  },
  {
   "cell_type": "code",
   "execution_count": null,
   "metadata": {},
   "outputs": [],
   "source": [
    "#What charge descriptions are the deadliest?\n",
    "#Bar Graph: x-ticks: “Charge description” vs. count of “Killed”, “Injured”\n",
    "#Assigned to: Trevor"
   ]
  },
  {
   "cell_type": "code",
   "execution_count": null,
   "metadata": {},
   "outputs": [],
   "source": [
    "#Where are collision hotspots in the City of San Diego?\n",
    "#Generate heat map for city of San Diego\n",
    "#Geocode addresses\n",
    "#Export zip codes and add to new column in master dataset\n",
    "#Assigned to: Tom"
   ]
  },
  {
   "cell_type": "code",
   "execution_count": null,
   "metadata": {},
   "outputs": [],
   "source": [
    "#What are the most common collision violations in general and by zip code?\n",
    "#Bar graph of % of collision violations\n",
    "#Assigned to: Tran"
   ]
  },
  {
   "cell_type": "code",
   "execution_count": null,
   "metadata": {},
   "outputs": [],
   "source": [
    "#What percentage of collisions involve pedestrians, bicyclists, and other motor vehicles?\n",
    "#Pie charts 2018 and 2019 data\n",
    "#Assigned to: Alex"
   ]
  },
  {
   "cell_type": "code",
   "execution_count": null,
   "metadata": {},
   "outputs": [],
   "source": [
    "#How do number of collisions and deaths vary over the course of a day?\n",
    "#Bin number of collisions by hour\n",
    "#Bin number of deaths by hour\n",
    "#Line plot - collision count per hour and death count per hour\n",
    "#Assigned to: Alex"
   ]
  },
  {
   "cell_type": "code",
   "execution_count": null,
   "metadata": {},
   "outputs": [],
   "source": [
    "#Most common time of the day for DUI’s\n",
    "#Line graph: \n",
    "#Bin number of DUIs by hour \n",
    "#Bin number of Hit & Run by hour\n",
    "#Bin number of Reckless Driving violations by hour \n",
    "#Assigned to: Trevor"
   ]
  }
 ],
 "metadata": {
  "kernelspec": {
   "display_name": "Python [conda env:PythonData] *",
   "language": "python",
   "name": "conda-env-PythonData-py"
  },
  "language_info": {
   "codemirror_mode": {
    "name": "ipython",
    "version": 3
   },
   "file_extension": ".py",
   "mimetype": "text/x-python",
   "name": "python",
   "nbconvert_exporter": "python",
   "pygments_lexer": "ipython3",
   "version": "3.6.10"
  }
 },
 "nbformat": 4,
 "nbformat_minor": 2
}
