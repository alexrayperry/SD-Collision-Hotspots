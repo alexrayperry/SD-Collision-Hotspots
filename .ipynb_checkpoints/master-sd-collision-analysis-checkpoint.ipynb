{
 "cells": [
  {
   "cell_type": "code",
   "execution_count": null,
   "metadata": {},
   "outputs": [],
   "source": [
    "#Import dependencies\n",
    "\n",
    "import matplotlib.pyplot as plt\n",
    "import pandas as pd\n",
    "import scipy.stats as st\n",
    "from scipy.stats import iqr\n",
    "from scipy.stats import linregress\n",
    "import numpy as np\n"
   ]
  },
  {
   "cell_type": "code",
   "execution_count": null,
   "metadata": {},
   "outputs": [],
   "source": [
    "#Import & read csv file"
   ]
  },
  {
   "cell_type": "code",
   "execution_count": null,
   "metadata": {},
   "outputs": [],
   "source": [
    "#What charge descriptions are the deadliest?\n",
    "#Bar Graph: x-ticks: “Charge description” vs. count of “Killed”, “Injured”\n",
    "#Assigned to: Trevor"
   ]
  },
  {
   "cell_type": "code",
   "execution_count": null,
   "metadata": {},
   "outputs": [],
   "source": [
    "#Where are collision hotspots in the City of San Diego?\n",
    "#Generate heat map for city of San Diego\n",
    "#Geocode addresses\n",
    "#Export zip codes and add to new column in master dataset\n",
    "#Assigned to: Tom"
   ]
  },
  {
   "cell_type": "markdown",
   "metadata": {},
   "source": [
    "#What are the most common collision violations in general and by zip code?\n",
    "#Bar graph of % of collision violations\n",
    "#Assigned to: Tran\n"
   ]
  },
  {
   "cell_type": "code",
   "execution_count": null,
   "metadata": {},
   "outputs": [],
   "source": [
    "#Import dependencies\n",
    "\n",
    "import matplotlib.pyplot as plt\n",
    "import pandas as pd\n",
    "import scipy.stats as st\n",
    "from scipy.stats import iqr\n",
    "from scipy.stats import linregress\n",
    "import numpy as np"
   ]
  },
  {
   "cell_type": "code",
   "execution_count": null,
   "metadata": {},
   "outputs": [],
   "source": [
    "# Read in the collision violations data set\n",
    "collision = pd.read_csv('Resources/pd_collisions_datasd_v1.csv')\n",
    "collision.head()"
   ]
  },
  {
   "cell_type": "code",
   "execution_count": null,
   "metadata": {},
   "outputs": [],
   "source": [
    "#drop column with null data\n",
    "# pandas drop columns using list of column names\n",
    "collision_filter = collision[['violation_section', 'charge_desc']]"
   ]
  },
  {
   "cell_type": "code",
   "execution_count": null,
   "metadata": {},
   "outputs": [],
   "source": [
    "#make into a new data frame\n",
    "collision_df = pd.DataFrame(collision_filter) \n",
    "collision_df"
   ]
  },
  {
   "cell_type": "code",
   "execution_count": null,
   "metadata": {},
   "outputs": [],
   "source": [
    "bar = collision_df.violation_section.value_counts()\n",
    "bar.head()"
   ]
  },
  {
   "cell_type": "code",
   "execution_count": null,
   "metadata": {},
   "outputs": [],
   "source": [
    "#create summary bar data frame\n",
    "bar_df = pd.DataFrame({\n",
    "    \"count\": bar,\n",
    "    \n",
    "    })\n",
    "bar_df"
   ]
  },
  {
   "cell_type": "code",
   "execution_count": null,
   "metadata": {},
   "outputs": [],
   "source": [
    "#barchart\n",
    "colors = [\"#E13F29\", \"#D69A80\", \"#D63B59\", \"#AE5552\", \"#CB5C3B\", \"#EB8076\", \"#96624E\"]\n",
    "\n",
    "# Create a pie chart\n",
    "plt.pie(\n",
    "    # using data total)arrests\n",
    "    bar_df['count'],\n",
    "    # with the labels being officer names\n",
    "    labels=bar_df['count'],\n",
    "    # with no shadows\n",
    "    shadow=False,\n",
    "    # with colors\n",
    "    colors=colors,\n",
    "    # with one slide exploded out\n",
    "    explode=(0, 0, 0, 0, 0.15),\n",
    "    # with the start angle at 90%\n",
    "    startangle=90,\n",
    "    # with the percent listed as a fraction\n",
    "    autopct='%1.1f%%',\n",
    "    )\n",
    "\n",
    "# View the plot drop above\n",
    "plt.axis('equal')\n",
    "\n",
    "# View the plot\n",
    "plt.tight_layout()\n",
    "plt.show()"
   ]
  },
  {
   "cell_type": "code",
   "execution_count": null,
   "metadata": {},
   "outputs": [],
   "source": [
    "#What percentage of collisions involve pedestrians, bicyclists, and other motor vehicles?\n",
    "#Pie charts 2018 and 2019 data\n",
    "#Assigned to: Alex"
   ]
  },
  {
   "cell_type": "code",
   "execution_count": null,
   "metadata": {},
   "outputs": [],
   "source": [
    "#How do number of collisions and deaths vary over the course of a day?\n",
    "#Bin number of collisions by hour\n",
    "#Bin number of deaths by hour\n",
    "#Line plot - collision count per hour and death count per hour\n",
    "#Assigned to: Alex"
   ]
  },
  {
   "cell_type": "code",
   "execution_count": null,
   "metadata": {},
   "outputs": [],
   "source": [
    "#Most common time of the day for DUI’s\n",
    "#Line graph: \n",
    "#Bin number of DUIs by hour \n",
    "#Bin number of Hit & Run by hour\n",
    "#Bin number of Reckless Driving violations by hour \n",
    "#Assigned to: Trevor"
   ]
  }
 ],
 "metadata": {
  "kernelspec": {
   "display_name": "Python 3",
   "language": "python",
   "name": "python3"
  },
  "language_info": {
   "codemirror_mode": {
    "name": "ipython",
    "version": 3
   },
   "file_extension": ".py",
   "mimetype": "text/x-python",
   "name": "python",
   "nbconvert_exporter": "python",
   "pygments_lexer": "ipython3",
   "version": "3.7.4"
  }
 },
 "nbformat": 4,
 "nbformat_minor": 2
}
